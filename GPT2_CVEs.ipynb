{
  "nbformat": 4,
  "nbformat_minor": 0,
  "metadata": {
    "colab": {
      "name": "GPT2-CVEs.ipynb",
      "provenance": [],
      "collapsed_sections": [],
      "include_colab_link": true
    },
    "kernelspec": {
      "name": "python3",
      "display_name": "Python 3"
    },
    "accelerator": "GPU"
  },
  "cells": [
    {
      "cell_type": "markdown",
      "metadata": {
        "id": "view-in-github",
        "colab_type": "text"
      },
      "source": [
        "<a href=\"https://colab.research.google.com/github/jgamblin/GPT2-CVE/blob/main/GPT2_CVEs.ipynb\" target=\"_parent\"><img src=\"https://colab.research.google.com/assets/colab-badge.svg\" alt=\"Open In Colab\"/></a>"
      ]
    },
    {
      "cell_type": "markdown",
      "metadata": {
        "id": "v95_uM8B0Lnl"
      },
      "source": [
        "# GPT2 CVE Description Generation"
      ]
    },
    {
      "cell_type": "markdown",
      "source": [
        "## Install GPT and download CVE data"
      ],
      "metadata": {
        "id": "yNtnzqTe-3g7"
      }
    },
    {
      "cell_type": "code",
      "source": [
        "%%capture\n",
        "!pip -qq install gpt2\n",
        "!pip install -q gpt-2-simple \n",
        "!mkdir -p jsondata\n",
        "%cd jsondata\n",
        "!rm *.json \n",
        "!rm *.zip \n",
        "!wget https://nvd.nist.gov/feeds/json/cve/1.1/nvdcve-1.1-{2002..2022}.json.zip \n",
        "!unzip -o \"*.zip\" "
      ],
      "metadata": {
        "id": "kMLYWt99IUtu"
      },
      "execution_count": null,
      "outputs": []
    },
    {
      "cell_type": "markdown",
      "source": [
        "## Load Libraries"
      ],
      "metadata": {
        "id": "VsK_HZNF--bi"
      }
    },
    {
      "cell_type": "code",
      "metadata": {
        "id": "OM6RKobjN89R"
      },
      "source": [
        "from IPython.core.magic import register_cell_magic\n",
        "from IPython.display import Markdown\n",
        "import logging\n",
        "import numpy as np\n",
        "import pandas as pd\n",
        "import warnings\n",
        "import glob\n",
        "import json\n",
        "import gpt_2_simple as gpt2\n",
        "from datetime import datetime\n",
        "\n",
        "@register_cell_magic\n",
        "def markdown(line, cell):\n",
        "    return Markdown(cell.format(**globals()))\n",
        "\n",
        "\n",
        "logging.getLogger('matplotlib.font_manager').disabled = True\n",
        "warnings.filterwarnings(\"ignore\")\n",
        "pd.set_option('display.width', 500)\n",
        "pd.set_option('display.max_rows', 50)\n",
        "pd.set_option('display.max_columns', 10)\n"
      ],
      "execution_count": null,
      "outputs": []
    },
    {
      "cell_type": "markdown",
      "source": [
        "## Build CVE Description File\n"
      ],
      "metadata": {
        "id": "yn-Q-yhe_FIh"
      }
    },
    {
      "cell_type": "code",
      "metadata": {
        "id": "NVdn4B_yODVR"
      },
      "source": [
        "row_accumulator = []\n",
        "for filename in glob.glob('nvdcve-1.1-20*.json'):\n",
        "    with open(filename, 'r', encoding='utf-8') as f:\n",
        "        nvd_data = json.load(f)\n",
        "        for entry in nvd_data['CVE_Items']:\n",
        "            try:\n",
        "                description = entry['cve']['description']['description_data'][0]['value']\n",
        "            except IndexError:\n",
        "                description = ''\n",
        "            new_row = { \n",
        "                'Description': description\n",
        "            }\n",
        "            if not description.startswith('**'): # disputed, rejected and other non issues start with '**'\n",
        "                row_accumulator.append(new_row)\n",
        "        nvd = pd.DataFrame(row_accumulator)\n",
        "\n",
        "nvd.to_csv('cves.txt', index=False)\n",
        "nvd"
      ],
      "execution_count": null,
      "outputs": []
    },
    {
      "cell_type": "markdown",
      "metadata": {
        "id": "iPNGnqs7Of7-"
      },
      "source": [
        "## Download and Finetune Model "
      ]
    },
    {
      "cell_type": "code",
      "metadata": {
        "id": "R89oqA_vPFNs"
      },
      "source": [
        "gpt2.download_gpt2(model_name=\"124M\")"
      ],
      "execution_count": null,
      "outputs": []
    },
    {
      "cell_type": "code",
      "source": [
        "sess = gpt2.start_tf_sess()\n",
        "\n",
        "file_name = \"cves.txt\"\n",
        "\n",
        "gpt2.finetune(sess,\n",
        "              dataset=file_name,\n",
        "              model_name='124M',\n",
        "              steps=500,\n",
        "              restore_from='fresh',\n",
        "              run_name='run1',\n",
        "              print_every=100,\n",
        "              sample_every=500,\n",
        "              save_every=500\n",
        "              )"
      ],
      "metadata": {
        "id": "PJP4_4RJRaya"
      },
      "execution_count": null,
      "outputs": []
    },
    {
      "cell_type": "markdown",
      "source": [
        "## Generate 10 Examples"
      ],
      "metadata": {
        "id": "Txmg1HO__S9p"
      }
    },
    {
      "cell_type": "code",
      "source": [
        "gpt2.generate(sess,\n",
        "              length=125,\n",
        "              temperature=0.80,\n",
        "              prefix=\"\",\n",
        "              nsamples=10,\n",
        "              batch_size=1,\n",
        "              truncate=\".\"\n",
        "              )"
      ],
      "metadata": {
        "id": "zeyBY6eTUKE4"
      },
      "execution_count": null,
      "outputs": []
    },
    {
      "cell_type": "markdown",
      "source": [
        "## Generate File With 100 Examples"
      ],
      "metadata": {
        "id": "uqsUm522_vVI"
      }
    },
    {
      "cell_type": "code",
      "source": [
        "gpt2.generate_to_file(sess,\n",
        "              length=125,\n",
        "              temperature=0.80,\n",
        "              prefix=\"\",\n",
        "              nsamples=100,\n",
        "              batch_size=1,\n",
        "              truncate=\".\"\n",
        "              )"
      ],
      "metadata": {
        "id": "5wxCzw1j_u25"
      },
      "execution_count": null,
      "outputs": []
    }
  ]
}